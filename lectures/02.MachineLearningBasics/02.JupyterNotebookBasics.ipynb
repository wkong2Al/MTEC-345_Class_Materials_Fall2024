{
 "cells": [
  {
   "cell_type": "code",
   "execution_count": null,
   "id": "835da205",
   "metadata": {},
   "outputs": [],
   "source": [
    "3 + 5"
   ]
  },
  {
   "cell_type": "code",
   "execution_count": null,
   "id": "ff9dfe10",
   "metadata": {},
   "outputs": [],
   "source": [
    "2 * 3"
   ]
  },
  {
   "cell_type": "code",
   "execution_count": null,
   "id": "884c7fd9",
   "metadata": {},
   "outputs": [],
   "source": [
    "100 / 3"
   ]
  },
  {
   "cell_type": "code",
   "execution_count": null,
   "id": "a63a51cb",
   "metadata": {},
   "outputs": [],
   "source": [
    "a = 123 ** 456"
   ]
  },
  {
   "cell_type": "code",
   "execution_count": null,
   "id": "e9b2ab28",
   "metadata": {},
   "outputs": [],
   "source": [
    "a"
   ]
  },
  {
   "cell_type": "code",
   "execution_count": null,
   "id": "1f0f23db",
   "metadata": {
    "scrolled": true
   },
   "outputs": [],
   "source": [
    "import numpy as np\n",
    "import matplotlib.pyplot as plt\n",
    "\n",
    "x = np.arange(0, 10, 0.1)\n",
    "y = np.sin(x)\n",
    "plt.plot(x, y)\n",
    "plt.show()"
   ]
  },
  {
   "cell_type": "markdown",
   "id": "8437b3bf",
   "metadata": {},
   "source": [
    "# Creating Documentation with Markdown\n",
    "You can embed markdown directly in Jupyter Notebook. Create a cell with the markdown cell type to start documenting.\n",
    "\n",
    "- Jupyter Notebook is convenient!\n",
    "- We will be using this in class!\n",
    "- Review how Jupyter Notebook works!"
   ]
  }
 ],
 "metadata": {
  "kernelspec": {
   "display_name": "Python 3 (ipykernel)",
   "language": "python",
   "name": "python3"
  },
  "language_info": {
   "codemirror_mode": {
    "name": "ipython",
    "version": 3
   },
   "file_extension": ".py",
   "mimetype": "text/x-python",
   "name": "python",
   "nbconvert_exporter": "python",
   "pygments_lexer": "ipython3",
   "version": "3.12.4"
  }
 },
 "nbformat": 4,
 "nbformat_minor": 5
}
