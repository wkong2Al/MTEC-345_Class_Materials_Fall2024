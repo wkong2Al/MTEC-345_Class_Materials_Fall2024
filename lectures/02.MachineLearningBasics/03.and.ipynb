{
 "cells": [
  {
   "cell_type": "code",
   "execution_count": 2,
   "id": "4a313f11",
   "metadata": {},
   "outputs": [
    {
     "name": "stdout",
     "output_type": "stream",
     "text": [
      "The prediction of [[0, 0], [1, 0], [0, 1], [1, 1]] is [0 0 0 1]\n",
      "The accuracy is 100.0%\n"
     ]
    }
   ],
   "source": [
    "# import modules\n",
    "from sklearn.svm import LinearSVC\n",
    "from sklearn.metrics import accuracy_score\n",
    "\n",
    "# Prepare data and label\n",
    "# A, B\n",
    "training_data = [[0, 0], [1, 0], [0, 1], [1, 1]]\n",
    "# A and B\n",
    "result_label = [0, 0, 0, 1]\n",
    "\n",
    "# Choose an algorithm to use\n",
    "classifier = LinearSVC()\n",
    "\n",
    "# Train the classifier with the data and label\n",
    "classifier.fit(training_data, result_label)\n",
    "\n",
    "# Predict the result using test data\n",
    "test_data = [[0, 0], [1, 0], [0, 1], [1, 1]]\n",
    "test_label = classifier.predict(test_data)\n",
    "\n",
    "# Display and evaluate the result\n",
    "print(\"The prediction of\", test_data, \"is\", test_label)\n",
    "print(f\"The accuracy is {accuracy_score(result_label, test_label)*100}%\")\n"
   ]
  },
  {
   "cell_type": "code",
   "execution_count": null,
   "id": "ad67c503",
   "metadata": {},
   "outputs": [],
   "source": []
  }
 ],
 "metadata": {
  "kernelspec": {
   "display_name": "Python 3 (ipykernel)",
   "language": "python",
   "name": "python3"
  },
  "language_info": {
   "codemirror_mode": {
    "name": "ipython",
    "version": 3
   },
   "file_extension": ".py",
   "mimetype": "text/x-python",
   "name": "python",
   "nbconvert_exporter": "python",
   "pygments_lexer": "ipython3",
   "version": "3.9.5"
  }
 },
 "nbformat": 4,
 "nbformat_minor": 5
}
