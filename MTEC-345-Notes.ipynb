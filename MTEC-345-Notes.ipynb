{
 "cells": [
  {
   "cell_type": "markdown",
   "id": "c5794d6f-ab33-4787-903f-dda78ad266fb",
   "metadata": {},
   "source": [
    "# One Hot Vectors"
   ]
  },
  {
   "cell_type": "code",
   "execution_count": null,
   "id": "92b6ce4a-8c10-4b20-92e7-e4f59182c441",
   "metadata": {},
   "outputs": [],
   "source": [
    "answer = 3\n",
    "one_hot_vector = [0.0, 0.0, 0.0, 1.0, 0.0, 0.0, 0.0, 0.0, 0.0, 0.0]\n",
    "probabilities  = [0.0, 0.0, 0.1, 0.5, 0.0, 0.1, 0.1, 0.0, 0.1, 0.1]"
   ]
  },
  {
   "cell_type": "markdown",
   "id": "ba5116c6-3cd9-48bb-bb02-5800c2e4ac77",
   "metadata": {},
   "source": [
    "# Tokenization"
   ]
  },
  {
   "cell_type": "code",
   "execution_count": null,
   "id": "67875f2c-71a1-46ef-8708-30fe3b6627fc",
   "metadata": {},
   "outputs": [],
   "source": [
    "chars = 'abcdefghijklmnopqrstuvwxyz '\n",
    "string_to_int = {c:i for i,c in enumerate(chars)}\n",
    "int_to_string = {i:c for i,c in enumerate(chars)}"
   ]
  },
  {
   "cell_type": "code",
   "execution_count": null,
   "id": "861e4cff-d717-4bde-9ce3-1fd15d16e5cd",
   "metadata": {},
   "outputs": [],
   "source": [
    "def encode_string(text: str):\n",
    "    return [string_to_int[c] for c in text]\n",
    "\n",
    "def decode_num_array(numbers):\n",
    "    return ''.join([int_to_string[i] for i in numbers])"
   ]
  },
  {
   "cell_type": "markdown",
   "id": "626d9253-a344-4a53-b665-cb169085979d",
   "metadata": {},
   "source": [
    "## Text Tokenizers\n",
    "\n",
    "- TikToken: https://github.com/openai/tiktoken\n",
    "- SentencePiece: https://github.com/google/sentencepiece\n",
    "\n",
    "## MIDI Tokenizers\n",
    "\n",
    "- REMI [Pop Music Transformer: Beat-based Modeling and Generation of Expressive Pop Piano Compositions](https://arxiv.org/abs/2002.00212)\n",
    "- Image in [Compound Word Transformer: Learning to Compose Full-Song Music over Dynamic Directed Hypergraphs](https://arxiv.org/abs/2101.02402)\n",
    "- Python Library [MIDITok](https://github.com/Natooz/MidiTok)\n"
   ]
  },
  {
   "cell_type": "code",
   "execution_count": null,
   "id": "72b74e40-6484-44f9-9786-905d78e112b1",
   "metadata": {},
   "outputs": [],
   "source": []
  }
 ],
 "metadata": {
  "kernelspec": {
   "display_name": "Python 3 (ipykernel)",
   "language": "python",
   "name": "python3"
  },
  "language_info": {
   "codemirror_mode": {
    "name": "ipython",
    "version": 3
   },
   "file_extension": ".py",
   "mimetype": "text/x-python",
   "name": "python",
   "nbconvert_exporter": "python",
   "pygments_lexer": "ipython3",
   "version": "3.8.18"
  }
 },
 "nbformat": 4,
 "nbformat_minor": 5
}
